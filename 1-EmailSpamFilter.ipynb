{
 "cells": [
  {
   "cell_type": "code",
   "execution_count": null,
   "id": "567a3bd5",
   "metadata": {},
   "outputs": [
    {
     "name": "stdout",
     "output_type": "stream",
     "text": [
      "Dataset Sample:\n",
      "  label                                            message\n",
      "0   ham  Go until jurong point, crazy.. Available only ...\n",
      "1   ham                      Ok lar... Joking wif u oni...\n",
      "2  spam  Free entry in 2 a wkly comp to win FA Cup fina...\n",
      "3   ham  U dun say so early hor... U c already then say...\n",
      "4   ham  Nah I don't think he goes to usf, he lives aro...\n"
     ]
    }
   ],
   "source": [
    "import pandas as pd\n",
    "from sklearn.model_selection import train_test_split\n",
    "from sklearn.feature_extraction.text import CountVectorizer\n",
    "\n",
    "# Load Dataset\n",
    "url = \"https://raw.githubusercontent.com/justmarkham/pycon-2016-tutorial/master/data/sms.tsv\"\n",
    "data = pd.read_csv(url, sep='\\t', header=None, names=['label', 'message'])\n",
    "\n",
    "print(\"Dataset Sample:\")\n",
    "print(data.head())\n",
    "\n",
    "# Convert labels to binary: ham = 0, spam = 1\n",
    "data['label_num'] = data.label.map({'ham': 0, 'spam': 1})\n",
    "\n",
    "# Split into train and test sets\n",
    "X_train, X_test, y_train, y_test = train_test_split(\n",
    "    data['message'], data['label_num'], test_size=0.2, random_state=42)\n",
    "\n",
    "# Feature Extraction (Bag of Words)\n",
    "vectorizer = CountVectorizer()\n",
    "X_train_vectorized = vectorizer.fit_transform(X_train)\n",
    "X_test_vectorized = vectorizer.transform(X_test)\n"
   ]
  },
  {
   "cell_type": "code",
   "execution_count": 4,
   "id": "c75ce043",
   "metadata": {},
   "outputs": [
    {
     "name": "stdout",
     "output_type": "stream",
     "text": [
      "Model training completed.\n"
     ]
    }
   ],
   "source": [
    "from sklearn.naive_bayes import MultinomialNB\n",
    "\n",
    "# Initialize the model\n",
    "model = MultinomialNB()\n",
    "\n",
    "# Train the model\n",
    "model.fit(X_train_vectorized, y_train)\n",
    "\n",
    "print(\"Model training completed.\")\n"
   ]
  },
  {
   "cell_type": "code",
   "execution_count": 8,
   "id": "1e90a8bc",
   "metadata": {},
   "outputs": [
    {
     "name": "stdout",
     "output_type": "stream",
     "text": [
      "Model Evaluation:\n",
      "Accuracy: 0.9919\n",
      "Precision: 1.0000\n",
      "Recall: 0.9396\n",
      "F1-Score: 0.9689\n",
      "Confusion Matrix:\n",
      "[[966   0]\n",
      " [  9 140]]\n"
     ]
    }
   ],
   "source": [
    "from sklearn.metrics import accuracy_score, precision_score, recall_score, f1_score, confusion_matrix\n",
    "\n",
    "# Predict on test data\n",
    "y_pred = model.predict(X_test_vectorized)\n",
    "\n",
    "# Evaluation Metrics\n",
    "accuracy = accuracy_score(y_test, y_pred)\n",
    "precision = precision_score(y_test, y_pred)\n",
    "recall = recall_score(y_test, y_pred)\n",
    "f1 = f1_score(y_test, y_pred)\n",
    "conf_matrix = confusion_matrix(y_test, y_pred)\n",
    "\n",
    "print(\"Model Evaluation:\")\n",
    "print(f\"Accuracy: {accuracy:.4f}\")\n",
    "print(f\"Precision: {precision:.4f}\")\n",
    "print(f\"Recall: {recall:.4f}\")\n",
    "print(f\"F1-Score: {f1:.4f}\")\n",
    "print(\"Confusion Matrix:\")\n",
    "print(conf_matrix)\n"
   ]
  },
  {
   "cell_type": "code",
   "execution_count": 9,
   "id": "585b0f50",
   "metadata": {},
   "outputs": [
    {
     "name": "stdout",
     "output_type": "stream",
     "text": [
      "Deleted: Congratulations! You've won a $1000 Walmart gift card. Click here to claim now.\n",
      "Not Spam: Hi, can we schedule a meeting for tomorrow regarding the project?\n"
     ]
    }
   ],
   "source": [
    "def classify_email(email_text):\n",
    "    \"\"\"Classify an email as Spam or Not Spam\"\"\"\n",
    "    email_vector = vectorizer.transform([email_text])\n",
    "    prediction = model.predict(email_vector)[0]\n",
    "    return 'Spam' if prediction == 1 else 'Not Spam'\n",
    "\n",
    "def simulate_email_deletion(email_text):\n",
    "    \"\"\"Simulate spam deletion based on classification\"\"\"\n",
    "    result = classify_email(email_text)\n",
    "    if result == 'Spam':\n",
    "        print(f\"Deleted: {email_text}\")\n",
    "    else:\n",
    "        print(f\"Not Spam: {email_text}\")\n",
    "\n",
    "# Test Examples\n",
    "sample_email_1 = \"Congratulations! You've won a $1000 Walmart gift card. Click here to claim now.\"\n",
    "sample_email_2 = \"Hi, can we schedule a meeting for tomorrow regarding the project?\"\n",
    "\n",
    "simulate_email_deletion(sample_email_1)\n",
    "simulate_email_deletion(sample_email_2)\n"
   ]
  }
 ],
 "metadata": {
  "kernelspec": {
   "display_name": "Python 3",
   "language": "python",
   "name": "python3"
  },
  "language_info": {
   "codemirror_mode": {
    "name": "ipython",
    "version": 3
   },
   "file_extension": ".py",
   "mimetype": "text/x-python",
   "name": "python",
   "nbconvert_exporter": "python",
   "pygments_lexer": "ipython3",
   "version": "3.11.9"
  }
 },
 "nbformat": 4,
 "nbformat_minor": 5
}
