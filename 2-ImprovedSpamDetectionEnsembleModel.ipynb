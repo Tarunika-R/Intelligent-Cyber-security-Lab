{
 "cells": [
  {
   "cell_type": "code",
   "execution_count": 1,
   "id": "d3c06314",
   "metadata": {},
   "outputs": [],
   "source": [
    "import pandas as pd\n",
    "from sklearn.model_selection import train_test_split\n",
    "from sklearn.feature_extraction.text import CountVectorizer\n",
    "\n",
    "# Load SMS Spam dataset\n",
    "url = \"https://raw.githubusercontent.com/justmarkham/pycon-2016-tutorial/master/data/sms.tsv\"\n",
    "data = pd.read_csv(url, sep=\"\\t\", header=None, names=['label', 'message'])\n",
    "data['label_num'] = data['label'].map({'ham': 0, 'spam': 1})\n",
    "\n",
    "# Split dataset\n",
    "X_train, X_test, y_train, y_test = train_test_split(\n",
    "    data['message'], data['label_num'], test_size=0.2, random_state=42)\n",
    "\n",
    "# Convert text to vectors\n",
    "vectorizer = CountVectorizer()\n",
    "X_train_vec = vectorizer.fit_transform(X_train)\n",
    "X_test_vec = vectorizer.transform(X_test)\n"
   ]
  },
  {
   "cell_type": "code",
   "execution_count": 2,
   "id": "09a438e9",
   "metadata": {},
   "outputs": [],
   "source": [
    "from sklearn.naive_bayes import MultinomialNB\n",
    "from sklearn.svm import LinearSVC\n",
    "from sklearn.ensemble import RandomForestClassifier, GradientBoostingClassifier\n",
    "from sklearn.linear_model import LogisticRegression\n",
    "\n",
    "# Instantiate classifiers\n",
    "nb = MultinomialNB()\n",
    "svm = LinearSVC()\n",
    "rf = RandomForestClassifier(n_estimators=100, random_state=42)\n",
    "gb = GradientBoostingClassifier(random_state=42)\n",
    "lr = LogisticRegression(max_iter=1000)\n"
   ]
  },
  {
   "cell_type": "code",
   "execution_count": 3,
   "id": "319204ef",
   "metadata": {},
   "outputs": [
    {
     "name": "stdout",
     "output_type": "stream",
     "text": [
      "Individual Model Accuracies:\n",
      "Naive Bayes: 0.9919\n",
      "SVM: 0.9901\n",
      "Random Forest: 0.9848\n",
      "Gradient Boosting: 0.9794\n",
      "Logistic Regression: 0.9883\n"
     ]
    }
   ],
   "source": [
    "from sklearn.metrics import accuracy_score\n",
    "\n",
    "models = {'Naive Bayes': nb, 'SVM': svm, 'Random Forest': rf, \n",
    "          'Gradient Boosting': gb, 'Logistic Regression': lr}\n",
    "\n",
    "print(\"Individual Model Accuracies:\")\n",
    "for name, model in models.items():\n",
    "    model.fit(X_train_vec, y_train)\n",
    "    pred = model.predict(X_test_vec)\n",
    "    acc = accuracy_score(y_test, pred)\n",
    "    print(f\"{name}: {acc:.4f}\")\n"
   ]
  },
  {
   "cell_type": "code",
   "execution_count": 4,
   "id": "b68bbae3",
   "metadata": {},
   "outputs": [
    {
     "name": "stdout",
     "output_type": "stream",
     "text": [
      "\n",
      "Voting Classifier Accuracy: 0.9892\n"
     ]
    }
   ],
   "source": [
    "from sklearn.ensemble import VotingClassifier\n",
    "\n",
    "voting_clf = VotingClassifier(\n",
    "    estimators=[('nb', nb), ('svm', svm), ('rf', rf), ('gb', gb), ('lr', lr)],\n",
    "    voting='hard')\n",
    "\n",
    "voting_clf.fit(X_train_vec, y_train)\n",
    "voting_pred = voting_clf.predict(X_test_vec)\n",
    "voting_acc = accuracy_score(y_test, voting_pred)\n",
    "\n",
    "print(f\"\\nVoting Classifier Accuracy: {voting_acc:.4f}\")\n"
   ]
  },
  {
   "cell_type": "code",
   "execution_count": 5,
   "id": "d2960266",
   "metadata": {},
   "outputs": [
    {
     "name": "stdout",
     "output_type": "stream",
     "text": [
      "\n",
      "Stacking Classifier Accuracy: 0.9928\n"
     ]
    }
   ],
   "source": [
    "from sklearn.ensemble import StackingClassifier\n",
    "\n",
    "# Use Logistic Regression as final estimator\n",
    "stacking_clf = StackingClassifier(\n",
    "    estimators=[('nb', nb), ('svm', svm), ('rf', rf), ('gb', gb)],\n",
    "    final_estimator=LogisticRegression(max_iter=1000),\n",
    "    passthrough=True)\n",
    "\n",
    "stacking_clf.fit(X_train_vec, y_train)\n",
    "stacking_pred = stacking_clf.predict(X_test_vec)\n",
    "stacking_acc = accuracy_score(y_test, stacking_pred)\n",
    "\n",
    "print(f\"\\nStacking Classifier Accuracy: {stacking_acc:.4f}\")\n"
   ]
  },
  {
   "cell_type": "code",
   "execution_count": 6,
   "id": "2cac955a",
   "metadata": {},
   "outputs": [
    {
     "name": "stdout",
     "output_type": "stream",
     "text": [
      "\n",
      "Summary of Model Performances:\n",
      "Naive Bayes: 0.9919\n",
      "SVM: 0.9901\n",
      "Random Forest: 0.9848\n",
      "Gradient Boosting: 0.9794\n",
      "Logistic Regression: 0.9883\n",
      "Voting Ensemble: 0.9892\n",
      "Stacking Ensemble: 0.9928\n"
     ]
    }
   ],
   "source": [
    "print(\"\\nSummary of Model Performances:\")\n",
    "for name, model in models.items():\n",
    "    pred = model.predict(X_test_vec)\n",
    "    acc = accuracy_score(y_test, pred)\n",
    "    print(f\"{name}: {acc:.4f}\")\n",
    "\n",
    "print(f\"Voting Ensemble: {voting_acc:.4f}\")\n",
    "print(f\"Stacking Ensemble: {stacking_acc:.4f}\")\n"
   ]
  }
 ],
 "metadata": {
  "kernelspec": {
   "display_name": "Python 3",
   "language": "python",
   "name": "python3"
  },
  "language_info": {
   "codemirror_mode": {
    "name": "ipython",
    "version": 3
   },
   "file_extension": ".py",
   "mimetype": "text/x-python",
   "name": "python",
   "nbconvert_exporter": "python",
   "pygments_lexer": "ipython3",
   "version": "3.11.9"
  }
 },
 "nbformat": 4,
 "nbformat_minor": 5
}
