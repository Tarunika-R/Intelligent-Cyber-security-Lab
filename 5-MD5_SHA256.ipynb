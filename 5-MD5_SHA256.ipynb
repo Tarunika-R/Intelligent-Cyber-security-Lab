{
 "cells": [
  {
   "cell_type": "code",
   "execution_count": 1,
   "id": "78f30b50",
   "metadata": {},
   "outputs": [
    {
     "name": "stdout",
     "output_type": "stream",
     "text": [
      "\n",
      "MD5 Hash:    5d41402abc4b2a76b9719d911017c592\n",
      "SHA-256 Hash: 2cf24dba5fb0a30e26e83b2ac5b9e29e1b161e5c1fa7425e73043362938b9824\n",
      "Verifying using MD5: True\n"
     ]
    }
   ],
   "source": [
    "import hashlib\n",
    "\n",
    "def generate_hashes(input_string):\n",
    "    md5_hash = hashlib.md5(input_string.encode()).hexdigest()\n",
    "    sha256_hash = hashlib.sha256(input_string.encode()).hexdigest()\n",
    "    return md5_hash, sha256_hash\n",
    "\n",
    "def verify_hash(input_string, known_hash):\n",
    "    if len(known_hash) == 32:\n",
    "        computed_hash = hashlib.md5(input_string.encode()).hexdigest()\n",
    "        algorithm = \"MD5\"\n",
    "    elif len(known_hash) == 64:\n",
    "        computed_hash = hashlib.sha256(input_string.encode()).hexdigest()\n",
    "        algorithm = \"SHA-256\"\n",
    "    else:\n",
    "        print(\"Unknown hash length. Cannot verify.\")\n",
    "        return False\n",
    "\n",
    "    match = computed_hash == known_hash\n",
    "    print(f\"Verifying using {algorithm}: {match}\")\n",
    "    return match\n",
    "\n",
    "# ---- Example Usage ----\n",
    "if __name__ == \"__main__\":\n",
    "    input_str = input(\"Enter a string to hash: \")\n",
    "\n",
    "    md5_result, sha256_result = generate_hashes(input_str)\n",
    "    print(f\"\\nMD5 Hash:    {md5_result}\")\n",
    "    print(f\"SHA-256 Hash: {sha256_result}\")\n",
    "\n",
    "    # Verification\n",
    "    known = input(\"\\nEnter a known hash to verify against the input string: \")\n",
    "    verify_hash(input_str, known)\n"
   ]
  }
 ],
 "metadata": {
  "kernelspec": {
   "display_name": ".venv",
   "language": "python",
   "name": "python3"
  },
  "language_info": {
   "codemirror_mode": {
    "name": "ipython",
    "version": 3
   },
   "file_extension": ".py",
   "mimetype": "text/x-python",
   "name": "python",
   "nbconvert_exporter": "python",
   "pygments_lexer": "ipython3",
   "version": "3.11.9"
  }
 },
 "nbformat": 4,
 "nbformat_minor": 5
}
